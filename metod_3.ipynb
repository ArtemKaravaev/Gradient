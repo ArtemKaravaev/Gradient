{
 "cells": [
  {
   "cell_type": "code",
   "execution_count": 1,
   "id": "0b822730",
   "metadata": {},
   "outputs": [],
   "source": [
    "import sympy\n",
    "from sympy.parsing.sympy_parser import parse_expr\n",
    "from sympy import Symbol\n",
    "import numpy as np\n",
    "import time\n",
    "from sympy import *"
   ]
  },
  {
   "cell_type": "code",
   "execution_count": 2,
   "id": "2c70cce1",
   "metadata": {},
   "outputs": [],
   "source": [
    "def inputgrad():\n",
    "     \"\"\"\n",
    "    Функция для ввода данных, с помощью которого будет осуществляться алгоритм Ньютон-сопряженного градиента\n",
    "    \n",
    "    Parameters\n",
    "    ----------\n",
    "    params: str\n",
    "        Строка на вход с переменными, которые могуи быть заданы любой русской или английской буквой\n",
    "    F: str\n",
    "        Функция в аналитическом виде в формате строки\n",
    "        \n",
    "    Returns\n",
    "    -----------\n",
    "\n",
    "    Final: dictionary\n",
    "        Словарь со всеми переменными и функциями, которые ранее были введены\n",
    "    \n",
    "    \"\"\"\n",
    "   \n",
    "  \n",
    "\n",
    "    params = input('Список переменных через пробел : ')\n",
    "    params = params.split(' ')\n",
    "    f = input('Функция в аналитическом виде :  ')\n",
    "    \n",
    "    Final = {}\n",
    "    for i in range(1, len(params)+1):\n",
    "        Final[f'p{i}'] = params[i-1]\n",
    "    Final['func'] = f\n",
    "\n",
    "    return Final\n",
    "\n",
    "\n",
    " \n",
    "#     Final = {'p1': params[0],\n",
    "#              'p2': params[2],\n",
    "#              'func': f}\n",
    "#     return Final"
   ]
  },
  {
   "cell_type": "code",
   "execution_count": 54,
   "id": "580d236b",
   "metadata": {},
   "outputs": [],
   "source": [
    "from sympy import *\n",
    "def grad(dictionary):\n",
    "    import time \n",
    "    import numpy as np\n",
    "    import sympy\n",
    "  \n",
    "    \n",
    "    from sympy.parsing.sympy_parser import parse_expr\n",
    "    \"\"\"\n",
    "    \n",
    "    Функция, которая осуществляет алгоритм алгоритм Ньютон-сопряженного градиента\n",
    "    \n",
    "    Parameters\n",
    "    ----------\n",
    "    dictionary: dict\n",
    "        Словарь, со всеми переменными, которые были заданы в функции ввода\n",
    "    eps: float\n",
    "        критерий остановки\n",
    "\n",
    "    func: str\n",
    "        Функция в аналитическом виде в формате строки\n",
    "    \n",
    "    Returns\n",
    "    ---------\n",
    "    X: list\n",
    "        Найденная точка минимума\n",
    "    fun: float\n",
    "        Значение функции в точке экстремума\n",
    "    (time.time() - start_time): float\n",
    "        Время выполнения в секундах\n",
    "    \n",
    "    \"\"\"\n",
    "    \n",
    " \n",
    "    \n",
    "    \n",
    "    \n",
    "    data = dictionary\n",
    "    func = data['func']\n",
    "    func = parse_expr(func)\n",
    "    h = 0.001\n",
    "    maxk = 500\n",
    "    t=Symbol('t')\n",
    "    eps = 0.00001\n",
    "    k=0\n",
    "    p=[]\n",
    "    syms=[]\n",
    "    for i in range(len(data)-1):\n",
    "        p.append(data[list(data.keys())[i]])\n",
    "        syms.append(Symbol(p[i]))\n",
    "\n",
    "    \n",
    "    start_time = time.time()\n",
    "    grad = []          # вектор градиентов символьно\n",
    "    X = [0]*len(p)     # вектор начальной точки (по умолчанию 0)\n",
    "    Y = []             # значение градиента в начальной точке\n",
    "    spis = []          # список кортежей для применения subs в дальнейшем\n",
    "    fun = 0\n",
    "    \n",
    "    \n",
    "    \n",
    "    \n",
    "    \n",
    "    for i in range(len(p)):\n",
    "        grad.append(func.diff(syms[i]))\n",
    "    \n",
    "    for i in range(len(p)):\n",
    "        spis.append((p[i], X[i]))\n",
    "    \n",
    "    for i in range(len(grad)):\n",
    "        Y.append(grad[i].subs(spis))\n",
    "    \n",
    "    fun = func.subs(spis)  # значение функции в точке\n",
    "    \n",
    "    \n",
    "    \n",
    "    \n",
    "    while True:\n",
    "        \n",
    "        if abs(sum((Y[i])**2 for i in range(len(Y))))>eps and k<maxk: # 2 ШАГ - критерий остановки\n",
    "            # fun = func.subs(spis) # значение функции в точке\n",
    "            # X1 = []\n",
    "            for i in range(len(X)):\n",
    "                X[i] = (X[i] - t*Y[i]) # 4 ШАГ - делаем шаг вдоль направления антиградиента\n",
    "                spis[i] = ((p[i], X[i]))\n",
    "            tfunc = func.subs(spis) # 5 ШАГ - подставляем в начальную функцию\n",
    "            tfunc_ = tfunc.diff(t)\n",
    "            t1 = solve(tfunc_, t)[0] # 6 ШАГ - находим t\n",
    "            for i in range(len(X)):\n",
    "                X[i] = X[i].subs(t, t1) # 7 ШАГ - получаем новую точку\n",
    "                spis[i] = ((p[i], X[i]))\n",
    "\n",
    "            for i in range(len(grad)):\n",
    "                Y[i] = grad[i].subs(spis) # новое значение градиента в новой точке\n",
    "            fun = func.subs(spis) # значение функции в точке\n",
    "            \n",
    "        else:\n",
    "            break\n",
    "   \n",
    "    #X=[round(v,1) for v in X] \n",
    "    #fun=round(fun,1)\n",
    "    print(f'Найденное значение координаты экстремума: {X}')\n",
    "    print(f'Значение функции в точке экстремума: {fun}')\n",
    "    print(\"Время выполнения( в секундах ) = %s  \" % (time.time() - start_time))"
   ]
  },
  {
   "cell_type": "code",
   "execution_count": 47,
   "id": "fc545dc4",
   "metadata": {},
   "outputs": [
    {
     "name": "stdout",
     "output_type": "stream",
     "text": [
      "Список переменных через пробел : x y\n",
      "Функция в аналитическом виде :  2*x**2+2*y**2+2*x*y+20*x+10*y+10\n",
      "Найденное значение координаты экстремума: [-5.00000000000000, 0]\n",
      "Значение функции в точке экстремума: -40.0000000000000\n",
      "Время выполнения( в секундах ) = 0.003917217254638672  \n"
     ]
    }
   ],
   "source": [
    "grad(inputgrad()) \n"
   ]
  },
  {
   "cell_type": "code",
   "execution_count": 48,
   "id": "a5238d4f",
   "metadata": {},
   "outputs": [
    {
     "name": "stdout",
     "output_type": "stream",
     "text": [
      "Список переменных через пробел : x y\n",
      "Функция в аналитическом виде :  10*x**2+3*y**2+2*x*y-6\n",
      "Найденное значение координаты экстремума: [0, 0]\n",
      "Значение функции в точке экстремума: -6\n",
      "Время выполнения( в секундах ) = 0.010969877243041992  \n"
     ]
    }
   ],
   "source": [
    "grad(inputgrad()) "
   ]
  },
  {
   "cell_type": "code",
   "execution_count": 50,
   "id": "5328e5a9",
   "metadata": {},
   "outputs": [
    {
     "name": "stdout",
     "output_type": "stream",
     "text": [
      "Список переменных через пробел : x\n",
      "Функция в аналитическом виде :  (x-2)**2+(x-3)**2\n",
      "Найденное значение координаты экстремума: [2.5]\n",
      "Значение функции в точке экстремума: 0.5\n",
      "Время выполнения( в секундах ) = 0.015982866287231445  \n"
     ]
    }
   ],
   "source": [
    "grad(inputgrad()) "
   ]
  },
  {
   "cell_type": "code",
   "execution_count": 56,
   "id": "d7ed8e37",
   "metadata": {},
   "outputs": [
    {
     "name": "stdout",
     "output_type": "stream",
     "text": [
      "Список переменных через пробел : x\n",
      "Функция в аналитическом виде :  4*x+cos(x)\n",
      "Найденное значение координаты экстремума: [-pi - asin(4)]\n",
      "Значение функции в точке экстремума: -4*pi - sqrt(15)*I - 4*asin(4)\n",
      "Время выполнения( в секундах ) = 0.053792476654052734  \n"
     ]
    }
   ],
   "source": [
    "grad(inputgrad()) "
   ]
  },
  {
   "cell_type": "code",
   "execution_count": null,
   "id": "e95c091f",
   "metadata": {},
   "outputs": [],
   "source": []
  }
 ],
 "metadata": {
  "kernelspec": {
   "display_name": "Python 3",
   "language": "python",
   "name": "python3"
  },
  "language_info": {
   "codemirror_mode": {
    "name": "ipython",
    "version": 3
   },
   "file_extension": ".py",
   "mimetype": "text/x-python",
   "name": "python",
   "nbconvert_exporter": "python",
   "pygments_lexer": "ipython3",
   "version": "3.8.10"
  }
 },
 "nbformat": 4,
 "nbformat_minor": 5
}
