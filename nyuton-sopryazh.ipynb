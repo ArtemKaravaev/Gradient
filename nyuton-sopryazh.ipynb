{
 "cells": [
  {
   "attachments": {
    "image.png": {
     "image/png": "[encoded data removed]"
    }
   },
   "cell_type": "markdown",
   "metadata": {},
   "source": [
    "![image.png](attachment:image.png)"
   ]
  },
  {
   "attachments": {
    "image-2.png": {
     "image/png": "[encoded data removed]"
    }
   },
   "cell_type": "markdown",
   "metadata": {},
   "source": [
    "![image-2.png](attachment:image-2.png)"
   ]
  },
  {
   "cell_type": "code",
   "execution_count": 181,
   "metadata": {},
   "outputs": [],
   "source": [
    "def inputSopr():\n",
    "    \n",
    "    \"\"\"\n",
    "    Функция для ввода данных, с помощью которого будет осуществляться алгоритм Ньютон-сопряженного градиента\n",
    "    \n",
    "    Parameters\n",
    "    ----------\n",
    "    params: str\n",
    "        Строка на вход с переменными, которые могуи быть заданы любой русской или английской буквой\n",
    "    F: str\n",
    "        Функция в аналитическом виде в формате строки\n",
    "        \n",
    "    Returns\n",
    "    -----------\n",
    "\n",
    "    Final: dictionary\n",
    "        Словарь со всеми переменными и функциями, которые ранее были введены\n",
    "    \n",
    "    \"\"\"\n",
    "   \n",
    "    params = input('Введите названия переменных: ')\n",
    "    params = params.split(' ')\n",
    "    F = input('Функция в аналитическом виде :  ')\n",
    "    \n",
    "    Final = {}\n",
    "    for i in range(1, len(params)+1):\n",
    "        Final[f'p{i}'] = params[i-1]\n",
    "    Final['func'] = F\n",
    "\n",
    "    return Final"
   ]
  },
  {
   "attachments": {
    "image.png": {
     "image/png": "[encoded data removed]"
    }
   },
   "cell_type": "markdown",
   "metadata": {},
   "source": [
    "![image.png](attachment:image.png)"
   ]
  },
  {
   "cell_type": "code",
   "execution_count": 182,
   "metadata": {},
   "outputs": [],
   "source": [
    "from sympy import *\n",
    "def sopr(dictionary):\n",
    "    \n",
    "    \"\"\"\n",
    "    \n",
    "    Функция, которая осуществляет алгоритм алгоритм Ньютон-сопряженного градиента\n",
    "    \n",
    "    Parameters\n",
    "    ----------\n",
    "    dictionary: dict\n",
    "        Словарь, со всеми переменными, которые были заданы в функции ввода\n",
    "    eps: float\n",
    "        критерий остановки\n",
    "\n",
    "    func: str\n",
    "        Функция в аналитическом виде в формате строки\n",
    "    \n",
    "    Returns\n",
    "    ---------\n",
    "    X: list\n",
    "        Найденная точка минимума\n",
    "    fun: float\n",
    "        Значение функции в точке экстремума\n",
    "    (time.time() - start_time): float\n",
    "        Время выполнения в секундах\n",
    "    \n",
    "    \"\"\"\n",
    "    \n",
    "    # преобразование данных для символьного вычислнения\n",
    "    import numpy as np\n",
    "    import time\n",
    "    from sympy.parsing.sympy_parser import parse_expr\n",
    "    \n",
    "   \n",
    "    data = dictionary\n",
    "    func = data['func']\n",
    "    func = parse_expr(func)\n",
    "    t=Symbol('t')\n",
    "    eps=0.1\n",
    "    p=[]\n",
    "    syms=[]\n",
    "    for i in range(len(data)-1):\n",
    "        p.append(data[list(data.keys())[i]])\n",
    "        syms.append(Symbol(p[i]))\n",
    "\n",
    "        \n",
    "    # реализация метода\n",
    "    start_time = time.time()\n",
    "    \n",
    "    \n",
    "    grad = []          # вектор градиентов символьно\n",
    "    X = [0]*len(p)     # вектор начальной точки (по умолчанию 0)\n",
    "    Y = []             # значение градиента в начальной точке\n",
    "    spis = []          # список кортежей для применения subs в дальнейшем\n",
    "    fun = 0\n",
    "    \n",
    "    for i in range(len(p)):\n",
    "        grad.append(func.diff(syms[i]))\n",
    "    \n",
    "    for i in range(len(p)):\n",
    "        spis.append((p[i], X[i]))\n",
    "    \n",
    "    for i in range(len(grad)):\n",
    "        Y.append(grad[i].subs(spis))\n",
    "        \n",
    "    fun = func.subs(spis) # значение функции в точке\n",
    "    \n",
    "    while True:\n",
    "        if abs(sum((Y[i])**2 for i in range(len(Y))))>eps: # 2 ШАГ - критерий остановки\n",
    "            # fun = func.subs(spis) # значение функции в точке\n",
    "            # X1 = []\n",
    "            for i in range(len(X)):\n",
    "                X[i] = (X[i] - t*Y[i]) # 4 ШАГ - делаем шаг вдоль направления антиградиента\n",
    "                spis[i] = ((p[i], X[i]))\n",
    "            tfunc = func.subs(spis) # 5 ШАГ - подставляем в начальную функцию\n",
    "            tfunc_ = tfunc.diff(t)\n",
    "            t1 = solve(tfunc_, t)[0] # 6 ШАГ - находим t\n",
    "            for i in range(len(X)):\n",
    "                X[i] = X[i].subs(t, t1) # 7 ШАГ - получаем новую точку\n",
    "                spis[i] = ((p[i], X[i]))\n",
    "\n",
    "            for i in range(len(grad)):\n",
    "                Y[i] = grad[i].subs(spis) # новое значение градиента в новой точке\n",
    "            fun = func.subs(spis) # значение функции в точке\n",
    "            \n",
    "        else:\n",
    "            break\n",
    "            \n",
    "    print(f'Найденное значение координаты экстремума: {X}')\n",
    "    print(f'Значение функции в точке экстремума: {fun}')\n",
    "    print(\"Время выполнения( в секундах ) = %s  \" % (time.time() - start_time))"
   ]
  },
  {
   "cell_type": "code",
   "execution_count": 184,
   "metadata": {},
   "outputs": [
    {
     "name": "stdout",
     "output_type": "stream",
     "text": [
      "Введите названия переменных: x y\n",
      "Функция в аналитическом виде :  2*x**2+2*y**2+2*x*y+20*x+10*y+10\n",
      "Найденное значение координаты экстремума: [-3875/784, 0]\n",
      "Значение функции в точке экстремума: -12291095/307328\n",
      "Время выполнения( в секундах ) = 0.0  \n"
     ]
    }
   ],
   "source": [
    "sopr(inputSopr()) # 2*x**2+2*y**2+2*x*y+20*x+10*y+10 - ПРОХОДИТ"
   ]
  },
  {
   "cell_type": "code",
   "execution_count": 183,
   "metadata": {},
   "outputs": [
    {
     "name": "stdout",
     "output_type": "stream",
     "text": [
      "Введите названия переменных: x y\n",
      "Функция в аналитическом виде :  10*x**2+3*y**2+2*x*y-6\n",
      "Найденное значение координаты экстремума: [0, 0]\n",
      "Значение функции в точке экстремума: -6\n",
      "Время выполнения( в секундах ) = 0.0019953250885009766  \n"
     ]
    }
   ],
   "source": [
    "sopr(inputSopr()) # 10*x**2+3*y**2+2*x*y-6 - ПРОХОДИТ"
   ]
  },
  {
   "cell_type": "code",
   "execution_count": 185,
   "metadata": {},
   "outputs": [
    {
     "name": "stdout",
     "output_type": "stream",
     "text": [
      "Введите названия переменных: x y\n",
      "Функция в аналитическом виде :  x**3+2*y**2-3*x-4*y\n",
      "Найденное значение координаты экстремума: [-32/27 - (-3 + 3*(-32/27 + sqrt(3049)/27)**2)*(-753/896 - 3*sqrt(3049)/224 + 39716897*sqrt(-583198291448711 + 10561793666560*sqrt(3049))/629974412928 + 179827*sqrt(3049)*sqrt(-583198291448711 + 10561793666560*sqrt(3049))/157493603232) + sqrt(3049)/27, -128/81 - (-836/81 + 16*sqrt(3049)/81)*(-753/896 - 3*sqrt(3049)/224 + 39716897*sqrt(-583198291448711 + 10561793666560*sqrt(3049))/629974412928 + 179827*sqrt(3049)*sqrt(-583198291448711 + 10561793666560*sqrt(3049))/157493603232) + 4*sqrt(3049)/81]\n",
      "Значение функции в точке экстремума: -25*sqrt(3049)/81 + 3*(-3 + 3*(-32/27 + sqrt(3049)/27)**2)*(-753/896 - 3*sqrt(3049)/224 + 39716897*sqrt(-583198291448711 + 10561793666560*sqrt(3049))/629974412928 + 179827*sqrt(3049)*sqrt(-583198291448711 + 10561793666560*sqrt(3049))/157493603232) + 4*(-836/81 + 16*sqrt(3049)/81)*(-753/896 - 3*sqrt(3049)/224 + 39716897*sqrt(-583198291448711 + 10561793666560*sqrt(3049))/629974412928 + 179827*sqrt(3049)*sqrt(-583198291448711 + 10561793666560*sqrt(3049))/157493603232) + (-32/27 - (-3 + 3*(-32/27 + sqrt(3049)/27)**2)*(-753/896 - 3*sqrt(3049)/224 + 39716897*sqrt(-583198291448711 + 10561793666560*sqrt(3049))/629974412928 + 179827*sqrt(3049)*sqrt(-583198291448711 + 10561793666560*sqrt(3049))/157493603232) + sqrt(3049)/27)**3 + 2*(-128/81 - (-836/81 + 16*sqrt(3049)/81)*(-753/896 - 3*sqrt(3049)/224 + 39716897*sqrt(-583198291448711 + 10561793666560*sqrt(3049))/629974412928 + 179827*sqrt(3049)*sqrt(-583198291448711 + 10561793666560*sqrt(3049))/157493603232) + 4*sqrt(3049)/81)**2 + 800/81\n",
      "Время выполнения( в секундах ) = 0.2669498920440674  \n"
     ]
    }
   ],
   "source": [
    "sopr(inputSopr()) # x**3+2*y**2-3*x-4*y - не сокращается"
   ]
  },
  {
   "cell_type": "code",
   "execution_count": 186,
   "metadata": {},
   "outputs": [
    {
     "name": "stdout",
     "output_type": "stream",
     "text": [
      "Введите названия переменных: x y\n",
      "Функция в аналитическом виде :  x**2+2*y**2+exp(x+y)\n",
      "Найденное значение координаты экстремума: [-LambertW(2/3)/2, -LambertW(2/3)/2]\n",
      "Значение функции в точке экстремума: 3*LambertW(2/3)**2/4 + exp(-LambertW(2/3))\n",
      "Время выполнения( в секундах ) = 0.05316901206970215  \n"
     ]
    }
   ],
   "source": [
    "sopr(inputSopr()) # x**2+2*y**2+exp(x+y) - ПРОХОДИТ, только ответы через функцию Ламберта"
   ]
  },
  {
   "cell_type": "code",
   "execution_count": 187,
   "metadata": {},
   "outputs": [
    {
     "name": "stdout",
     "output_type": "stream",
     "text": [
      "Введите названия переменных: x\n",
      "Функция в аналитическом виде :  (x-2)**2+(x-3)**2\n",
      "Найденное значение координаты экстремума: [5/2]\n",
      "Значение функции в точке экстремума: 1/2\n",
      "Время выполнения( в секундах ) = 0.0036635398864746094  \n"
     ]
    }
   ],
   "source": [
    "sopr(inputSopr()) # (x-2)**2+(x-3)**2 - ПРОХОДИТ"
   ]
  },
  {
   "cell_type": "code",
   "execution_count": 188,
   "metadata": {},
   "outputs": [
    {
     "name": "stdout",
     "output_type": "stream",
     "text": [
      "Введите названия переменных: x\n",
      "Функция в аналитическом виде :  4*x+cos(x)\n",
      "Найденное значение координаты экстремума: [-pi - asin(4)]\n",
      "Значение функции в точке экстремума: -4*pi - sqrt(15)*I - 4*asin(4)\n",
      "Время выполнения( в секундах ) = 0.0660698413848877  \n"
     ]
    }
   ],
   "source": [
    "sopr(inputSopr()) # 4*x+cos(x)"
   ]
  },
  {
   "cell_type": "code",
   "execution_count": 189,
   "metadata": {},
   "outputs": [
    {
     "name": "stdout",
     "output_type": "stream",
     "text": [
      "Введите названия переменных: x\n",
      "Функция в аналитическом виде :  ln(x**2)\n"
     ]
    },
    {
     "ename": "IndexError",
     "evalue": "list index out of range",
     "output_type": "error",
     "traceback": [
      "\u001b[1;31m---------------------------------------------------------------------------\u001b[0m",
      "\u001b[1;31mIndexError\u001b[0m                                Traceback (most recent call last)",
      "\u001b[1;32m<ipython-input-189-a901024cd303>\u001b[0m in \u001b[0;36m<module>\u001b[1;34m\u001b[0m\n\u001b[1;32m----> 1\u001b[1;33m \u001b[0msopr\u001b[0m\u001b[1;33m(\u001b[0m\u001b[0minputSopr\u001b[0m\u001b[1;33m(\u001b[0m\u001b[1;33m)\u001b[0m\u001b[1;33m)\u001b[0m\u001b[1;33m\u001b[0m\u001b[1;33m\u001b[0m\u001b[0m\n\u001b[0m",
      "\u001b[1;32m<ipython-input-182-e36178da3476>\u001b[0m in \u001b[0;36msopr\u001b[1;34m(dictionary)\u001b[0m\n\u001b[0;32m     75\u001b[0m             \u001b[0mtfunc\u001b[0m \u001b[1;33m=\u001b[0m \u001b[0mfunc\u001b[0m\u001b[1;33m.\u001b[0m\u001b[0msubs\u001b[0m\u001b[1;33m(\u001b[0m\u001b[0mspis\u001b[0m\u001b[1;33m)\u001b[0m \u001b[1;31m# 5 ШАГ - подставляем в начальную функцию\u001b[0m\u001b[1;33m\u001b[0m\u001b[1;33m\u001b[0m\u001b[0m\n\u001b[0;32m     76\u001b[0m             \u001b[0mtfunc_\u001b[0m \u001b[1;33m=\u001b[0m \u001b[0mtfunc\u001b[0m\u001b[1;33m.\u001b[0m\u001b[0mdiff\u001b[0m\u001b[1;33m(\u001b[0m\u001b[0mt\u001b[0m\u001b[1;33m)\u001b[0m\u001b[1;33m\u001b[0m\u001b[1;33m\u001b[0m\u001b[0m\n\u001b[1;32m---> 77\u001b[1;33m             \u001b[0mt1\u001b[0m \u001b[1;33m=\u001b[0m \u001b[0msolve\u001b[0m\u001b[1;33m(\u001b[0m\u001b[0mtfunc_\u001b[0m\u001b[1;33m,\u001b[0m \u001b[0mt\u001b[0m\u001b[1;33m)\u001b[0m\u001b[1;33m[\u001b[0m\u001b[1;36m0\u001b[0m\u001b[1;33m]\u001b[0m \u001b[1;31m# 6 ШАГ - находим t\u001b[0m\u001b[1;33m\u001b[0m\u001b[1;33m\u001b[0m\u001b[0m\n\u001b[0m\u001b[0;32m     78\u001b[0m             \u001b[1;32mfor\u001b[0m \u001b[0mi\u001b[0m \u001b[1;32min\u001b[0m \u001b[0mrange\u001b[0m\u001b[1;33m(\u001b[0m\u001b[0mlen\u001b[0m\u001b[1;33m(\u001b[0m\u001b[0mX\u001b[0m\u001b[1;33m)\u001b[0m\u001b[1;33m)\u001b[0m\u001b[1;33m:\u001b[0m\u001b[1;33m\u001b[0m\u001b[1;33m\u001b[0m\u001b[0m\n\u001b[0;32m     79\u001b[0m                 \u001b[0mX\u001b[0m\u001b[1;33m[\u001b[0m\u001b[0mi\u001b[0m\u001b[1;33m]\u001b[0m \u001b[1;33m=\u001b[0m \u001b[0mX\u001b[0m\u001b[1;33m[\u001b[0m\u001b[0mi\u001b[0m\u001b[1;33m]\u001b[0m\u001b[1;33m.\u001b[0m\u001b[0msubs\u001b[0m\u001b[1;33m(\u001b[0m\u001b[0mt\u001b[0m\u001b[1;33m,\u001b[0m \u001b[0mt1\u001b[0m\u001b[1;33m)\u001b[0m \u001b[1;31m# 7 ШАГ - получаем новую точку\u001b[0m\u001b[1;33m\u001b[0m\u001b[1;33m\u001b[0m\u001b[0m\n",
      "\u001b[1;31mIndexError\u001b[0m: list index out of range"
     ]
    }
   ],
   "source": [
    "sopr(inputSopr())"
   ]
  },
  {
   "cell_type": "code",
   "execution_count": null,
   "metadata": {},
   "outputs": [],
   "source": []
  },
  {
   "cell_type": "code",
   "execution_count": 190,
   "metadata": {},
   "outputs": [
    {
     "name": "stdout",
     "output_type": "stream",
     "text": [
      "Help on function inputSopr in module __main__:\n",
      "\n",
      "inputSopr()\n",
      "    Функция для ввода данных, с помощью которого будет осуществляться алгоритм Ньютон-сопряженного градиента\n",
      "    \n",
      "    Parameters\n",
      "    ----------\n",
      "    params: str\n",
      "        Строка на вход с переменными, которые могуи быть заданы любой русской или английской буквой\n",
      "    F: str\n",
      "        Функция в аналитическом виде в формате строки\n",
      "    Final: dictionary\n",
      "        Словарь со всеми переменными и функциями, которые ранее были введены\n",
      "\n"
     ]
    }
   ],
   "source": [
    "help(inputSopr)"
   ]
  },
  {
   "cell_type": "code",
   "execution_count": 191,
   "metadata": {},
   "outputs": [
    {
     "name": "stdout",
     "output_type": "stream",
     "text": [
      "Help on function sopr in module __main__:\n",
      "\n",
      "sopr(dictionary)\n",
      "    Функция, которая осуществляет алгоритм алгоритм Ньютон-сопряженного градиента\n",
      "    \n",
      "    Parameters\n",
      "    ----------\n",
      "    dictionary: dict\n",
      "        Словарь, со всеми переменными, которые были заданы в функции ввода\n",
      "    eps: float\n",
      "        критерий остановки\n",
      "    \n",
      "    func: str\n",
      "        Функция в аналитическом виде в формате строки\n",
      "    \n",
      "    Returns\n",
      "    ---------\n",
      "    X: list\n",
      "        Найденная точка минимума\n",
      "    fun: float\n",
      "        Значение функции в точке экстремума\n",
      "    (time.time() - start_time): float\n",
      "        Время выполнения в секундах\n",
      "\n"
     ]
    }
   ],
   "source": [
    "help(sopr)"
   ]
  }
 ],
 "metadata": {
  "kernelspec": {
   "display_name": "Python 3",
   "language": "python",
   "name": "python3"
  },
  "language_info": {
   "codemirror_mode": {
    "name": "ipython",
    "version": 3
   },
   "file_extension": ".py",
   "mimetype": "text/x-python",
   "name": "python",
   "nbconvert_exporter": "python",
   "pygments_lexer": "ipython3",
   "version": "3.7.6"
  }
 },
 "nbformat": 4,
 "nbformat_minor": 5
}
