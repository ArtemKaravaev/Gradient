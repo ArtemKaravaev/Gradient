{
 "cells": [
  {
   "cell_type": "code",
   "execution_count": 12,
   "id": "alpha-rough",
   "metadata": {},
   "outputs": [
    {
     "data": {
      "text/plain": [
       "'x[0]**2 - x[0]*x[1] + x[1]**2 + 9*x[0] - 6 * x[1] + 20'"
      ]
     },
     "execution_count": 12,
     "metadata": {},
     "output_type": "execute_result"
    }
   ],
   "source": [
    "def func(variables = ['x','y'],f = 'x**2 - x*y + y**2 + 9*x - 6 * y + 20'):\n",
    "    for i in range(len(variables)):\n",
    "        f = f.replace(variables[i],f'x[{i}]')\n",
    "    return f\n",
    "func()"
   ]
  },
  {
   "cell_type": "code",
   "execution_count": 13,
   "id": "flush-investing",
   "metadata": {},
   "outputs": [
    {
     "data": {
      "text/plain": [
       "['2*x[0] - x[1] + 9', '-x[0] + 2*x[1] - 6']"
      ]
     },
     "execution_count": 13,
     "metadata": {},
     "output_type": "execute_result"
    }
   ],
   "source": [
    "def gradFunc(var1 = 'x',var2 = 'y', f = 'x**2 - x*y + y**2 + 9*x - 6 * y + 20' ):\n",
    "    x = Symbol(var1)\n",
    "    y = Symbol(var2)\n",
    "    f = parse_expr(f)\n",
    "    return [str(f.diff(x)).replace('x','x[0]').replace('y','x[1]') , str(f.diff(y)).replace('x','x[0]').replace('y','x[1]')]\n",
    "gradFunc()"
   ]
  },
  {
   "cell_type": "code",
   "execution_count": 14,
   "id": "standing-pension",
   "metadata": {},
   "outputs": [],
   "source": [
    "# задаем вручную с помощью функций сверху\n",
    "def f(x):\n",
    "    return x[0]**2 - x[0]*x[1] + x[1]**2 + 9*x[0] - 6 * x[1] + 20\n",
    "\n",
    "# gradient\n",
    "def g(x):\n",
    "    return np.array([2*x[0] - x[1] + 9, -x[0] + 2*x[1] - 6])"
   ]
  },
  {
   "cell_type": "code",
   "execution_count": 15,
   "id": "veterinary-special",
   "metadata": {},
   "outputs": [],
   "source": [
    "from sympy.parsing.sympy_parser import parse_expr\n",
    "from sympy import Symbol\n",
    "import numpy as np\n",
    "import time"
   ]
  },
  {
   "cell_type": "code",
   "execution_count": 16,
   "id": "subtle-pencil",
   "metadata": {},
   "outputs": [],
   "source": [
    "def gradient_const_step(func = f, grad = g, nvar = 2, h = 0.001, maxk = 500, eps = 0.00001, unusualx0 = False):\n",
    "    start_time = time.time()\n",
    "    if unusualx0 :\n",
    "        xk = np.array([10]) * nvar\n",
    "    else :\n",
    "        xk = np.array([0]) * nvar # столько 0, сколько переменных\n",
    "    try:\n",
    "        gk = g(xk)\n",
    "    except ZeroDivisionError:\n",
    "        xk += 100\n",
    "        gk = g(xk)\n",
    "    fk = f(xk)\n",
    "    k = 0\n",
    "    while sum(gk**2)**(1/2) > eps and k < maxk:\n",
    "        k += 1\n",
    "        xk = xk - h * gk\n",
    "        gk = g(xk)\n",
    "        fk = f(xk)\n",
    "    if k == maxk :\n",
    "        print(f'время выполнения( в секундах ) = {(time.time() - start_time)}')\n",
    "        return (xk, fk, 1)\n",
    "    elif k == 0 :\n",
    "        print(f'время выполнения( в секундах ) = {(time.time() - start_time)}')\n",
    "        return (xk, fk, 2)\n",
    "    else:\n",
    "        print(f'время выполнения( в секундах ) = {(time.time() - start_time)}')\n",
    "        return(xk,fk,0)"
   ]
  },
  {
   "cell_type": "code",
   "execution_count": 17,
   "id": "geographic-triple",
   "metadata": {},
   "outputs": [],
   "source": [
    "def gradient_changing_step(func = f, grad = g, nvar = 2,sigm = 0.5, h = 0.001, maxk = 500, eps = 0.00001, unusualx0 = False):\n",
    "    if not (0 < sigm < 1) :\n",
    "        return('Ошибка ввода параметра дробления')\n",
    "    start_time = time.time()\n",
    "    if unusualx0 :\n",
    "        xk = np.array([10]) * nvar\n",
    "    else :\n",
    "        xk = np.array([0]) * nvar # столько 0, сколько переменных\n",
    "    try:\n",
    "        gk = g(xk)\n",
    "    except ZeroDivisionError:\n",
    "        xk += 100\n",
    "        gk = g(xk)\n",
    "    fk = f(xk)\n",
    "    k = 0\n",
    "    while sum(gk**2)**(1/2) > eps and k < maxk:\n",
    "        k += 1\n",
    "        xj = xk # x(k-1)\n",
    "        xk = xk - h * gk\n",
    "        fk = f(xk)\n",
    "        if fk > f(xj):\n",
    "            h /= sigm\n",
    "        gk = g(xk)\n",
    "        \n",
    "    if k == maxk :\n",
    "        print(f'время выполнения( в секундах ) = {(time.time() - start_time)}')\n",
    "        return (xk, fk, 1)\n",
    "    elif k == 0 :\n",
    "        print(f'время выполнения( в секундах ) = {(time.time() - start_time)}')\n",
    "        return (xk, fk, 2)\n",
    "    else:\n",
    "        print(f'время выполнения( в секундах ) = {(time.time() - start_time)}')\n",
    "        return(xk,fk,0)"
   ]
  },
  {
   "cell_type": "markdown",
   "id": "smart-carnival",
   "metadata": {},
   "source": [
    "## можно попробовать разные значения параметров, резульаты изменятся, сейчас часто достигается макс итераций,\n",
    "## т.к. eps маленькое, а макск = 500\n",
    "## чтобы сойтись все таки - увеличить макск или подправить другие параметры ??"
   ]
  },
  {
   "cell_type": "code",
   "execution_count": 151,
   "id": "grateful-cooperation",
   "metadata": {},
   "outputs": [],
   "source": [
    "## Тестирование 1) 10*x1**2+3*x2**2+2*x1*x2-6"
   ]
  },
  {
   "cell_type": "code",
   "execution_count": 152,
   "id": "insured-banking",
   "metadata": {},
   "outputs": [
    {
     "data": {
      "text/plain": [
       "'10*x[0]**2+3*x[1]**2+2*x[0]*x[1]-6'"
      ]
     },
     "execution_count": 152,
     "metadata": {},
     "output_type": "execute_result"
    }
   ],
   "source": [
    "func(variables = ['x1','x2'],f = '10*x1**2+3*x2**2+2*x1*x2-6')"
   ]
  },
  {
   "cell_type": "code",
   "execution_count": 153,
   "id": "explicit-processor",
   "metadata": {},
   "outputs": [
    {
     "data": {
      "text/plain": [
       "['20*x[0] + 2*x[1]', '2*x[0] + 6*x[1]']"
      ]
     },
     "execution_count": 153,
     "metadata": {},
     "output_type": "execute_result"
    }
   ],
   "source": [
    "gradFunc(var1 = 'x1',var2 = 'x2',f = '10*x1**2+3*x2**2+2*x1*x2-6')"
   ]
  },
  {
   "cell_type": "code",
   "execution_count": 154,
   "id": "received-guinea",
   "metadata": {},
   "outputs": [],
   "source": [
    "# задаем вручную с помощью функций сверху\n",
    "def f(x):\n",
    "    return 10*x[0]**2+3*x[1]**2+2*x[0]*x[1]-6\n",
    "\n",
    "# gradient\n",
    "def g(x):\n",
    "    return np.array([20*x[0] + 2*x[1], 2*x[0] + 6*x[1]])"
   ]
  },
  {
   "cell_type": "code",
   "execution_count": 155,
   "id": "afraid-revision",
   "metadata": {},
   "outputs": [
    {
     "name": "stdout",
     "output_type": "stream",
     "text": [
      "время выполнения( в секундах ) = 0.0\n"
     ]
    },
    {
     "data": {
      "text/plain": [
       "([0, 0], -6, 2)"
      ]
     },
     "execution_count": 155,
     "metadata": {},
     "output_type": "execute_result"
    }
   ],
   "source": [
    "gradient_const_step()"
   ]
  },
  {
   "cell_type": "code",
   "execution_count": 156,
   "id": "liable-grant",
   "metadata": {},
   "outputs": [
    {
     "name": "stdout",
     "output_type": "stream",
     "text": [
      "время выполнения( в секундах ) = 0.0\n"
     ]
    },
    {
     "data": {
      "text/plain": [
       "([0, 0], -6, 2)"
      ]
     },
     "execution_count": 156,
     "metadata": {},
     "output_type": "execute_result"
    }
   ],
   "source": [
    "gradient_changing_step()"
   ]
  },
  {
   "cell_type": "code",
   "execution_count": 82,
   "id": "ambient-document",
   "metadata": {},
   "outputs": [],
   "source": [
    "## Тестирование 2) x1***3+2*x2**2-3*x1-4*x2"
   ]
  },
  {
   "cell_type": "code",
   "execution_count": 157,
   "id": "brilliant-moore",
   "metadata": {},
   "outputs": [
    {
     "data": {
      "text/plain": [
       "'x[0]**3+2*x[1]**2-3*x[0]-4*x[1]'"
      ]
     },
     "execution_count": 157,
     "metadata": {},
     "output_type": "execute_result"
    }
   ],
   "source": [
    "func(variables = ['x1','x2'],f = 'x1**3+2*x2**2-3*x1-4*x2')"
   ]
  },
  {
   "cell_type": "code",
   "execution_count": 158,
   "id": "hidden-correlation",
   "metadata": {},
   "outputs": [
    {
     "data": {
      "text/plain": [
       "['3*x[0]**2 - 3', '4*x[1] - 4']"
      ]
     },
     "execution_count": 158,
     "metadata": {},
     "output_type": "execute_result"
    }
   ],
   "source": [
    "gradFunc(var1 = 'x1',var2 = 'x2',f = 'x1**3+2*x2**2-3*x1-4*x2')"
   ]
  },
  {
   "cell_type": "code",
   "execution_count": 159,
   "id": "atlantic-serum",
   "metadata": {},
   "outputs": [],
   "source": [
    "# задаем вручную с помощью функций сверху\n",
    "def f(x):\n",
    "    return x[0]**3+2*x[1]**2-3*x[0]-4*x[1]\n",
    "\n",
    "# gradient\n",
    "def g(x):\n",
    "    return np.array([3*x[0]**2 - 3, 4*x[1] - 4])"
   ]
  },
  {
   "cell_type": "code",
   "execution_count": 160,
   "id": "based-memorabilia",
   "metadata": {},
   "outputs": [
    {
     "name": "stdout",
     "output_type": "stream",
     "text": [
      "время выполнения( в секундах ) = 0.0049860477447509766\n"
     ]
    },
    {
     "data": {
      "text/plain": [
       "(array([0.90561226, 0.86520642]), -3.937775151514923, 1)"
      ]
     },
     "execution_count": 160,
     "metadata": {},
     "output_type": "execute_result"
    }
   ],
   "source": [
    "gradient_const_step()"
   ]
  },
  {
   "cell_type": "code",
   "execution_count": 161,
   "id": "external-complex",
   "metadata": {},
   "outputs": [
    {
     "name": "stdout",
     "output_type": "stream",
     "text": [
      "время выполнения( в секундах ) = 0.0069425106048583984\n"
     ]
    },
    {
     "data": {
      "text/plain": [
       "(array([0.90561226, 0.86520642]), -3.937775151514923, 1)"
      ]
     },
     "execution_count": 161,
     "metadata": {},
     "output_type": "execute_result"
    }
   ],
   "source": [
    "gradient_changing_step()"
   ]
  },
  {
   "cell_type": "code",
   "execution_count": 162,
   "id": "private-exercise",
   "metadata": {},
   "outputs": [],
   "source": [
    "## Тестирование 3) x1**2+2*x2**2+exp(x1+x2)"
   ]
  },
  {
   "cell_type": "code",
   "execution_count": 163,
   "id": "surgical-mississippi",
   "metadata": {},
   "outputs": [
    {
     "data": {
      "text/plain": [
       "'x[0]**2+2*x[1]**2+exp(x[0]+x[1])'"
      ]
     },
     "execution_count": 163,
     "metadata": {},
     "output_type": "execute_result"
    }
   ],
   "source": [
    "func(variables = ['x1','x2'],f = 'x1**2+2*x2**2+exp(x1+x2)')"
   ]
  },
  {
   "cell_type": "code",
   "execution_count": 164,
   "id": "knowing-passage",
   "metadata": {},
   "outputs": [
    {
     "data": {
      "text/plain": [
       "['2*x[0] + exp(x[0] + x[1])', '4*x[1] + exp(x[0] + x[1])']"
      ]
     },
     "execution_count": 164,
     "metadata": {},
     "output_type": "execute_result"
    }
   ],
   "source": [
    "gradFunc(var1 = 'x1',var2 = 'x2',f = 'x1**2+2*x2**2+exp(x1+x2)')"
   ]
  },
  {
   "cell_type": "code",
   "execution_count": 165,
   "id": "hired-balance",
   "metadata": {},
   "outputs": [],
   "source": [
    "# задаем вручную с помощью функций сверху\n",
    "def f(x):\n",
    "    return x[0]**2+2*x[1]**2+exp(x[0]+x[1])\n",
    "\n",
    "# gradient\n",
    "def g(x):\n",
    "    return np.array([2*x[0] + exp(x[0] + x[1]), 4*x[1] + exp(x[0] + x[1])])"
   ]
  },
  {
   "cell_type": "code",
   "execution_count": 166,
   "id": "legendary-meditation",
   "metadata": {},
   "outputs": [],
   "source": [
    "from math import exp"
   ]
  },
  {
   "cell_type": "code",
   "execution_count": 169,
   "id": "extreme-equipment",
   "metadata": {},
   "outputs": [
    {
     "name": "stdout",
     "output_type": "stream",
     "text": [
      "время выполнения( в секундах ) = 0.04789876937866211\n"
     ]
    },
    {
     "data": {
      "text/plain": [
       "(array([-0.31276288, -0.15638453]), 0.7722682277438524, 0)"
      ]
     },
     "execution_count": 169,
     "metadata": {},
     "output_type": "execute_result"
    }
   ],
   "source": [
    "gradient_const_step(maxk = 5000)"
   ]
  },
  {
   "cell_type": "code",
   "execution_count": 170,
   "id": "rural-venture",
   "metadata": {},
   "outputs": [
    {
     "name": "stdout",
     "output_type": "stream",
     "text": [
      "время выполнения( в секундах ) = 0.05684661865234375\n"
     ]
    },
    {
     "data": {
      "text/plain": [
       "(array([-0.31276288, -0.15638453]), 0.7722682277438524, 0)"
      ]
     },
     "execution_count": 170,
     "metadata": {},
     "output_type": "execute_result"
    }
   ],
   "source": [
    "gradient_changing_step(maxk = 5000)"
   ]
  },
  {
   "cell_type": "code",
   "execution_count": 85,
   "id": "amended-things",
   "metadata": {},
   "outputs": [],
   "source": [
    "## Тестирование 4) (x-2)**2+(x-3)**2"
   ]
  },
  {
   "cell_type": "code",
   "execution_count": 171,
   "id": "dedicated-latex",
   "metadata": {},
   "outputs": [
    {
     "data": {
      "text/plain": [
       "'(x[0]-2)**2+(x[0]-3)**2'"
      ]
     },
     "execution_count": 171,
     "metadata": {},
     "output_type": "execute_result"
    }
   ],
   "source": [
    "func(variables = ['x'],f = '(x-2)**2+(x-3)**2')"
   ]
  },
  {
   "cell_type": "code",
   "execution_count": 172,
   "id": "specified-fundamentals",
   "metadata": {},
   "outputs": [
    {
     "data": {
      "text/plain": [
       "['4*x[0] - 10', '0']"
      ]
     },
     "execution_count": 172,
     "metadata": {},
     "output_type": "execute_result"
    }
   ],
   "source": [
    "gradFunc(var1 = 'x',f = '(x-2)**2+(x-3)**2')"
   ]
  },
  {
   "cell_type": "code",
   "execution_count": 173,
   "id": "second-capacity",
   "metadata": {},
   "outputs": [],
   "source": [
    "# задаем вручную с помощью функций сверху\n",
    "def f(x):\n",
    "    return (x[0]-2)**2+(x[0]-3)**2\n",
    "\n",
    "# gradient\n",
    "def g(x):\n",
    "    return np.array([4*x[0] - 10])"
   ]
  },
  {
   "cell_type": "code",
   "execution_count": 176,
   "id": "comic-enemy",
   "metadata": {},
   "outputs": [
    {
     "name": "stdout",
     "output_type": "stream",
     "text": [
      "время выполнения( в секундах ) = 0.02892589569091797\n"
     ]
    },
    {
     "data": {
      "text/plain": [
       "(array([2.4999975]), 0.5000000000124966, 0)"
      ]
     },
     "execution_count": 176,
     "metadata": {},
     "output_type": "execute_result"
    }
   ],
   "source": [
    "gradient_const_step(nvar = 1, maxk = 10000)"
   ]
  },
  {
   "cell_type": "code",
   "execution_count": 177,
   "id": "colonial-investor",
   "metadata": {},
   "outputs": [
    {
     "name": "stdout",
     "output_type": "stream",
     "text": [
      "время выполнения( в секундах ) = 0.03391599655151367\n"
     ]
    },
    {
     "data": {
      "text/plain": [
       "(array([2.4999975]), 0.5000000000124966, 0)"
      ]
     },
     "execution_count": 177,
     "metadata": {},
     "output_type": "execute_result"
    }
   ],
   "source": [
    "gradient_changing_step(nvar = 1, maxk = 10000)"
   ]
  },
  {
   "cell_type": "code",
   "execution_count": 86,
   "id": "violent-authorization",
   "metadata": {},
   "outputs": [],
   "source": [
    "## Тестирование 5) 4*x+cos(x)"
   ]
  },
  {
   "cell_type": "code",
   "execution_count": 178,
   "id": "thorough-makeup",
   "metadata": {},
   "outputs": [
    {
     "data": {
      "text/plain": [
       "'4*x[0]+cos(x[0])'"
      ]
     },
     "execution_count": 178,
     "metadata": {},
     "output_type": "execute_result"
    }
   ],
   "source": [
    "func(variables = ['x'],f = '4*x+cos(x)')"
   ]
  },
  {
   "cell_type": "code",
   "execution_count": 179,
   "id": "intense-brooklyn",
   "metadata": {},
   "outputs": [
    {
     "data": {
      "text/plain": [
       "['4 - sin(x[0])', '0']"
      ]
     },
     "execution_count": 179,
     "metadata": {},
     "output_type": "execute_result"
    }
   ],
   "source": [
    "gradFunc(var1 = 'x',f = '4*x+cos(x)')"
   ]
  },
  {
   "cell_type": "code",
   "execution_count": 180,
   "id": "higher-victor",
   "metadata": {},
   "outputs": [],
   "source": [
    "from math import sin, cos"
   ]
  },
  {
   "cell_type": "code",
   "execution_count": 181,
   "id": "minute-darkness",
   "metadata": {},
   "outputs": [],
   "source": [
    "# задаем вручную с помощью функций сверху\n",
    "def f(x):\n",
    "    return 4*x[0]+cos(x[0])\n",
    "\n",
    "# gradient\n",
    "def g(x):\n",
    "    return np.array([4 - sin(x[0])])"
   ]
  },
  {
   "cell_type": "code",
   "execution_count": null,
   "id": "incorporated-checklist",
   "metadata": {},
   "outputs": [],
   "source": [
    "# не сходится, мб нужно ещё больше шагов, т.к достигается лимит"
   ]
  },
  {
   "cell_type": "code",
   "execution_count": 185,
   "id": "ultimate-newark",
   "metadata": {},
   "outputs": [
    {
     "name": "stdout",
     "output_type": "stream",
     "text": [
      "время выполнения( в секундах ) = 6.452968597412109\n"
     ]
    },
    {
     "data": {
      "text/plain": [
       "(array([-3873.48449406]), -15494.933055234365, 1)"
      ]
     },
     "execution_count": 185,
     "metadata": {},
     "output_type": "execute_result"
    }
   ],
   "source": [
    "gradient_const_step(nvar = 1, maxk = 1000000)"
   ]
  },
  {
   "cell_type": "code",
   "execution_count": 187,
   "id": "preliminary-barrel",
   "metadata": {},
   "outputs": [
    {
     "name": "stdout",
     "output_type": "stream",
     "text": [
      "время выполнения( в секундах ) = 7.842103958129883\n"
     ]
    },
    {
     "data": {
      "text/plain": [
       "(array([-3873.48449406]), -15494.933055234365, 1)"
      ]
     },
     "execution_count": 187,
     "metadata": {},
     "output_type": "execute_result"
    }
   ],
   "source": [
    "gradient_changing_step(nvar = 1, maxk = 1000000)"
   ]
  },
  {
   "cell_type": "code",
   "execution_count": 87,
   "id": "announced-latin",
   "metadata": {},
   "outputs": [],
   "source": [
    "## Тестирование 6) ln(x**2)"
   ]
  },
  {
   "cell_type": "code",
   "execution_count": 188,
   "id": "registered-aaron",
   "metadata": {},
   "outputs": [
    {
     "data": {
      "text/plain": [
       "'ln(x[0]**2)'"
      ]
     },
     "execution_count": 188,
     "metadata": {},
     "output_type": "execute_result"
    }
   ],
   "source": [
    "func(variables = ['x'],f = 'ln(x**2)')"
   ]
  },
  {
   "cell_type": "code",
   "execution_count": 189,
   "id": "organized-bernard",
   "metadata": {},
   "outputs": [
    {
     "data": {
      "text/plain": [
       "['2/x[0]', '0']"
      ]
     },
     "execution_count": 189,
     "metadata": {},
     "output_type": "execute_result"
    }
   ],
   "source": [
    "gradFunc(var1 = 'x',f = 'ln(x**2)')"
   ]
  },
  {
   "cell_type": "code",
   "execution_count": 195,
   "id": "accessory-exception",
   "metadata": {},
   "outputs": [],
   "source": [
    "# задаем вручную с помощью функций сверху\n",
    "def f(x):\n",
    "    return log(x[0]**2)\n",
    "\n",
    "# gradient\n",
    "def g(x):\n",
    "    return np.array([2/x[0]])"
   ]
  },
  {
   "cell_type": "code",
   "execution_count": 194,
   "id": "straight-hours",
   "metadata": {},
   "outputs": [],
   "source": [
    "from math import log"
   ]
  },
  {
   "cell_type": "code",
   "execution_count": null,
   "id": "pleased-earth",
   "metadata": {},
   "outputs": [],
   "source": [
    "## не сходится"
   ]
  },
  {
   "cell_type": "code",
   "execution_count": 215,
   "id": "actual-dominant",
   "metadata": {},
   "outputs": [
    {
     "name": "stdout",
     "output_type": "stream",
     "text": [
      "время выполнения( в секундах ) = 0.32416367530822754\n"
     ]
    },
    {
     "data": {
      "text/plain": [
       "(array([-1.65414315]), 1.006566281836148, 1)"
      ]
     },
     "execution_count": 215,
     "metadata": {},
     "output_type": "execute_result"
    }
   ],
   "source": [
    "gradient_const_step(nvar = 1, unusualx0 = True, maxk = 50000)"
   ]
  },
  {
   "cell_type": "code",
   "execution_count": 216,
   "id": "incomplete-centre",
   "metadata": {},
   "outputs": [
    {
     "name": "stdout",
     "output_type": "stream",
     "text": [
      "время выполнения( в секундах ) = 0.3652305603027344\n"
     ]
    },
    {
     "data": {
      "text/plain": [
       "(array([-157.93923521]), 10.124420743514705, 1)"
      ]
     },
     "execution_count": 216,
     "metadata": {},
     "output_type": "execute_result"
    }
   ],
   "source": [
    "gradient_changing_step(nvar = 1, unusualx0 = True, maxk = 50000)"
   ]
  },
  {
   "cell_type": "code",
   "execution_count": 18,
   "id": "higher-width",
   "metadata": {},
   "outputs": [],
   "source": [
    "## Тестирование 7) 4*x+x**2+(200-x)**2"
   ]
  },
  {
   "cell_type": "code",
   "execution_count": 19,
   "id": "atmospheric-poker",
   "metadata": {},
   "outputs": [
    {
     "data": {
      "text/plain": [
       "'4*x[0]+x[0]**2+(200-x[0])**2'"
      ]
     },
     "execution_count": 19,
     "metadata": {},
     "output_type": "execute_result"
    }
   ],
   "source": [
    "func(variables = ['x'],f = '4*x+x**2+(200-x)**2' )"
   ]
  },
  {
   "cell_type": "code",
   "execution_count": 20,
   "id": "composite-intelligence",
   "metadata": {},
   "outputs": [
    {
     "data": {
      "text/plain": [
       "['4*x[0] - 396', '0']"
      ]
     },
     "execution_count": 20,
     "metadata": {},
     "output_type": "execute_result"
    }
   ],
   "source": [
    "gradFunc(var1 = 'x',f = '4*x+x**2+(200-x)**2')"
   ]
  },
  {
   "cell_type": "code",
   "execution_count": 21,
   "id": "analyzed-logic",
   "metadata": {},
   "outputs": [],
   "source": [
    "# задаем вручную с помощью функций сверху\n",
    "def f(x):\n",
    "    return 4*x[0]+x[0]**2+(200-x[0])**2\n",
    "\n",
    "# gradient\n",
    "def g(x):\n",
    "    return np.array([4*x[0] - 396])"
   ]
  },
  {
   "cell_type": "code",
   "execution_count": 23,
   "id": "appointed-fundamental",
   "metadata": {},
   "outputs": [
    {
     "name": "stdout",
     "output_type": "stream",
     "text": [
      "время выполнения( в секундах ) = 0.03290390968322754\n"
     ]
    },
    {
     "data": {
      "text/plain": [
       "(array([98.9999975]), 20398.000000000015, 0)"
      ]
     },
     "execution_count": 23,
     "metadata": {},
     "output_type": "execute_result"
    }
   ],
   "source": [
    "gradient_const_step(nvar = 1, maxk = 10000)"
   ]
  },
  {
   "cell_type": "code",
   "execution_count": 24,
   "id": "cardiovascular-inspector",
   "metadata": {},
   "outputs": [
    {
     "name": "stdout",
     "output_type": "stream",
     "text": [
      "время выполнения( в секундах ) = 0.04188108444213867\n"
     ]
    },
    {
     "data": {
      "text/plain": [
       "(array([98.99999752]), 20398.000000000015, 0)"
      ]
     },
     "execution_count": 24,
     "metadata": {},
     "output_type": "execute_result"
    }
   ],
   "source": [
    "gradient_changing_step(nvar = 1, maxk = 10000)"
   ]
  }
 ],
 "metadata": {
  "kernelspec": {
   "display_name": "Python 3",
   "language": "python",
   "name": "python3"
  },
  "language_info": {
   "codemirror_mode": {
    "name": "ipython",
    "version": 3
   },
   "file_extension": ".py",
   "mimetype": "text/x-python",
   "name": "python",
   "nbconvert_exporter": "python",
   "pygments_lexer": "ipython3",
   "version": "3.8.8"
  }
 },
 "nbformat": 4,
 "nbformat_minor": 5
}
